{
  "nbformat": 4,
  "nbformat_minor": 0,
  "metadata": {
    "colab": {
      "name": "3-18",
      "provenance": []
    },
    "kernelspec": {
      "name": "python3",
      "display_name": "Python 3"
    },
    "language_info": {
      "name": "python"
    }
  },
  "cells": [
    {
      "cell_type": "markdown",
      "source": [
        "##Problem 1\n",
        "Take a number, reverse it and add it to the original number. Repreating this reciper almost always produces a palindrome\n",
        "Write a function that takes an integer and produces a palindrome as per the above recipe\n",
        "After explaining the problem, ask if the specification is complete. Point out that we need specific directions of what to do if the input is itself a palindrome"
      ],
      "metadata": {
        "id": "ZUkKFv-awZN3"
      }
    }
  ]
}
